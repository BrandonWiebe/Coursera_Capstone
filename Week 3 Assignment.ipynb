{
    "cells": [
        {
            "metadata": {},
            "cell_type": "markdown",
            "source": "# Week 3 Assignment\n\n\n***\n\n## Section 1: Scraping and cleaning the data.\n\nIn the first section, we will use the requests and BeautifulSoup libraries to scrape the content from the Wikipedia article.\n\nFirst, the standard imports:"
        },
        {
            "metadata": {},
            "cell_type": "code",
            "source": "import requests\nimport pandas as pd\nfrom bs4 import BeautifulSoup",
            "execution_count": 2,
            "outputs": []
        },
        {
            "metadata": {},
            "cell_type": "markdown",
            "source": "Next, the requests library is used to download the Wikipedia article, and the article is then parsed with the BeautifulSoup library."
        },
        {
            "metadata": {},
            "cell_type": "code",
            "source": "r = requests.get(\"https://en.wikipedia.org/wiki/List_of_postal_codes_of_Canada:_M\")\nr.raise_for_status()\n\nwiki_soup = BeautifulSoup(r.content)",
            "execution_count": 13,
            "outputs": []
        },
        {
            "metadata": {},
            "cell_type": "markdown",
            "source": "Now, using the BeautifulSoup library, we search through the contents of the Wikipedia article for the contents of the table containing the list of postal codes and which boroughs/neighborhoods they correspond to.\nNote that we are assuming that the aforementioned table is the first table present in the html document."
        },
        {
            "metadata": {
                "scrolled": true
            },
            "cell_type": "code",
            "source": "table = wiki_soup.find(\"tbody\")\nrowList = []\ncolumns = [\"Postal Code\", \"Borough\", \"Neighborhood\"]\n\n# We want to skip the first row of the table, as it only contains the column headers.\nfor row in table.find_all(\"tr\")[1:]:\n    rowList.append(dict(zip(columns, row.stripped_strings)))",
            "execution_count": 9,
            "outputs": []
        },
        {
            "metadata": {},
            "cell_type": "markdown",
            "source": "The table is then converted to a pandas dataframe."
        },
        {
            "metadata": {},
            "cell_type": "code",
            "source": "df = pd.DataFrame(rowList, columns=columns)\ndf.head()",
            "execution_count": 29,
            "outputs": [
                {
                    "output_type": "execute_result",
                    "execution_count": 29,
                    "data": {
                        "text/plain": "  Postal Code           Borough               Neighborhood\n0         M1A      Not assigned               Not assigned\n1         M2A      Not assigned               Not assigned\n2         M3A        North York                  Parkwoods\n3         M4A        North York           Victoria Village\n4         M5A  Downtown Toronto  Regent Park, Harbourfront",
                        "text/html": "<div>\n<style scoped>\n    .dataframe tbody tr th:only-of-type {\n        vertical-align: middle;\n    }\n\n    .dataframe tbody tr th {\n        vertical-align: top;\n    }\n\n    .dataframe thead th {\n        text-align: right;\n    }\n</style>\n<table border=\"1\" class=\"dataframe\">\n  <thead>\n    <tr style=\"text-align: right;\">\n      <th></th>\n      <th>Postal Code</th>\n      <th>Borough</th>\n      <th>Neighborhood</th>\n    </tr>\n  </thead>\n  <tbody>\n    <tr>\n      <th>0</th>\n      <td>M1A</td>\n      <td>Not assigned</td>\n      <td>Not assigned</td>\n    </tr>\n    <tr>\n      <th>1</th>\n      <td>M2A</td>\n      <td>Not assigned</td>\n      <td>Not assigned</td>\n    </tr>\n    <tr>\n      <th>2</th>\n      <td>M3A</td>\n      <td>North York</td>\n      <td>Parkwoods</td>\n    </tr>\n    <tr>\n      <th>3</th>\n      <td>M4A</td>\n      <td>North York</td>\n      <td>Victoria Village</td>\n    </tr>\n    <tr>\n      <th>4</th>\n      <td>M5A</td>\n      <td>Downtown Toronto</td>\n      <td>Regent Park, Harbourfront</td>\n    </tr>\n  </tbody>\n</table>\n</div>"
                    },
                    "metadata": {}
                }
            ]
        },
        {
            "metadata": {},
            "cell_type": "markdown",
            "source": "Now, we need to filter out the rows of the table in which the Borough value is \"Not assigned\"."
        },
        {
            "metadata": {},
            "cell_type": "code",
            "source": "boroughFilter = df['Borough'] != \"Not assigned\"\ndf = df[boroughFilter]\ndf.reset_index(drop=True, inplace=True)\ndf.head()",
            "execution_count": 30,
            "outputs": [
                {
                    "output_type": "execute_result",
                    "execution_count": 30,
                    "data": {
                        "text/plain": "  Postal Code           Borough                                 Neighborhood\n0         M3A        North York                                    Parkwoods\n1         M4A        North York                             Victoria Village\n2         M5A  Downtown Toronto                    Regent Park, Harbourfront\n3         M6A        North York             Lawrence Manor, Lawrence Heights\n4         M7A  Downtown Toronto  Queen's Park, Ontario Provincial Government",
                        "text/html": "<div>\n<style scoped>\n    .dataframe tbody tr th:only-of-type {\n        vertical-align: middle;\n    }\n\n    .dataframe tbody tr th {\n        vertical-align: top;\n    }\n\n    .dataframe thead th {\n        text-align: right;\n    }\n</style>\n<table border=\"1\" class=\"dataframe\">\n  <thead>\n    <tr style=\"text-align: right;\">\n      <th></th>\n      <th>Postal Code</th>\n      <th>Borough</th>\n      <th>Neighborhood</th>\n    </tr>\n  </thead>\n  <tbody>\n    <tr>\n      <th>0</th>\n      <td>M3A</td>\n      <td>North York</td>\n      <td>Parkwoods</td>\n    </tr>\n    <tr>\n      <th>1</th>\n      <td>M4A</td>\n      <td>North York</td>\n      <td>Victoria Village</td>\n    </tr>\n    <tr>\n      <th>2</th>\n      <td>M5A</td>\n      <td>Downtown Toronto</td>\n      <td>Regent Park, Harbourfront</td>\n    </tr>\n    <tr>\n      <th>3</th>\n      <td>M6A</td>\n      <td>North York</td>\n      <td>Lawrence Manor, Lawrence Heights</td>\n    </tr>\n    <tr>\n      <th>4</th>\n      <td>M7A</td>\n      <td>Downtown Toronto</td>\n      <td>Queen's Park, Ontario Provincial Government</td>\n    </tr>\n  </tbody>\n</table>\n</div>"
                    },
                    "metadata": {}
                }
            ]
        },
        {
            "metadata": {},
            "cell_type": "markdown",
            "source": "We also need to check if there are any rows of the dataframe in which there is an assigned Borough, but no assigned Neighborhoods. If there are any rows with a Not assigned neighborhood, we will change the neighborhood to be the same as the borough."
        },
        {
            "metadata": {},
            "cell_type": "code",
            "source": "neighborhoodFilter = df['Neighborhood'] != \"Not assigned\"\nif neighborhoodFilter.sum() == df.shape[0]:\n    print(\"There are NO \\\"Not assigned\\\" neighborhoods in the data!\")\nelse:\n    print(\"There are {} \\\"Not assigned\\\" neighborhoods in the data\".format(neighborhoodFilter.sum()))\n",
            "execution_count": 23,
            "outputs": [
                {
                    "output_type": "stream",
                    "text": "There are NO \"Not assigned\" neighborhoods in the data!\n",
                    "name": "stdout"
                }
            ]
        },
        {
            "metadata": {},
            "cell_type": "markdown",
            "source": "Finally, let's check the shape of our resulting data set:"
        },
        {
            "metadata": {},
            "cell_type": "code",
            "source": "print(\"The data set has\", df.shape[0], \"rows and\", df.shape[1], \"columns.\")",
            "execution_count": 28,
            "outputs": [
                {
                    "output_type": "stream",
                    "text": "The data set has 103 rows and 3 columns.\n",
                    "name": "stdout"
                }
            ]
        }
    ],
    "metadata": {
        "kernelspec": {
            "name": "python3",
            "display_name": "Python 3.7",
            "language": "python"
        }
    },
    "nbformat": 4,
    "nbformat_minor": 1
}