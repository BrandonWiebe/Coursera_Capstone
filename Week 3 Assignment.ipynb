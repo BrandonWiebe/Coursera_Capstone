{
    "cells": [
        {
            "metadata": {},
            "cell_type": "markdown",
            "source": "# Week 3 Assignment\n\n\n***\n\n## Section 1: Scraping and cleaning the data.\n\nIn the first section, we will use the requests and BeautifulSoup libraries to scrape the content from the Wikipedia article.\n\nFirst, the standard imports:"
        },
        {
            "metadata": {},
            "cell_type": "code",
            "source": "import requests\nimport pandas as pd\nfrom bs4 import BeautifulSoup",
            "execution_count": 2,
            "outputs": []
        },
        {
            "metadata": {},
            "cell_type": "markdown",
            "source": "Next, the requests library is used to download the Wikipedia article, and the article is then parsed with the BeautifulSoup library."
        },
        {
            "metadata": {},
            "cell_type": "code",
            "source": "r = requests.get(\"https://en.wikipedia.org/wiki/List_of_postal_codes_of_Canada:_M\")\nr.raise_for_status()\n\nwiki_soup = BeautifulSoup(r.content)",
            "execution_count": 13,
            "outputs": []
        },
        {
            "metadata": {},
            "cell_type": "markdown",
            "source": "Now, using the BeautifulSoup library, we search through the contents of the Wikipedia article for the contents of the table containing the list of postal codes and which boroughs/neighborhoods they correspond to.\nNote that we are assuming that the aforementioned table is the first table present in the html document."
        },
        {
            "metadata": {
                "scrolled": true
            },
            "cell_type": "code",
            "source": "table = wiki_soup.find(\"tbody\")\nrowList = []\ncolumns = [\"Postal Code\", \"Borough\", \"Neighborhood\"]\n\n# We want to skip the first row of the table, as it only contains the column headers.\nfor row in table.find_all(\"tr\")[1:]:\n    rowList.append(dict(zip(columns, row.stripped_strings)))",
            "execution_count": 9,
            "outputs": []
        },
        {
            "metadata": {},
            "cell_type": "markdown",
            "source": "The table is then converted to a pandas dataframe."
        },
        {
            "metadata": {},
            "cell_type": "code",
            "source": "df = pd.DataFrame(rowList, columns=columns)",
            "execution_count": 10,
            "outputs": []
        },
        {
            "metadata": {},
            "cell_type": "markdown",
            "source": "Now, we need to filter out the rows of the table in which the Borough value is \"Not assigned\"."
        },
        {
            "metadata": {},
            "cell_type": "code",
            "source": "boroughFilter = df['Borough'] != \"Not assigned\"\ndf = df[boroughFilter]\ndf.reset_index(drop=True, inplace=True)",
            "execution_count": 11,
            "outputs": []
        },
        {
            "metadata": {},
            "cell_type": "markdown",
            "source": "We also need to check if there are any rows of the dataframe in which there is an assigned Borough, but no assigned Neighborhoods. If there are any rows with a Not assigned neighborhood, we will change the neighborhood to be the same as the borough."
        },
        {
            "metadata": {},
            "cell_type": "code",
            "source": "neighborhoodFilter = df['Neighborhood'] != \"Not assigned\"\nif neighborhoodFilter.sum() == df.shape[0]:\n    print(\"There are NO \\\"Not assigned\\\" neighborhoods in the data!\")\nelse:\n    print(\"There are {} \\\"Not assigned\\\" neighborhoods in the data\".format(neighborhoodFilter.sum()))\n",
            "execution_count": 23,
            "outputs": [
                {
                    "output_type": "stream",
                    "text": "There are NO \"Not assigned\" neighborhoods in the data!\n",
                    "name": "stdout"
                }
            ]
        },
        {
            "metadata": {},
            "cell_type": "markdown",
            "source": "Finally, let's check the shape of our resulting data set:"
        },
        {
            "metadata": {},
            "cell_type": "code",
            "source": "print(\"The data set has\", df.shape[0], \"rows and\", df.shape[1], \"columns.\")",
            "execution_count": 28,
            "outputs": [
                {
                    "output_type": "stream",
                    "text": "The data set has 103 rows and 3 columns.\n",
                    "name": "stdout"
                }
            ]
        }
    ],
    "metadata": {
        "kernelspec": {
            "name": "python3",
            "display_name": "Python 3.7",
            "language": "python"
        }
    },
    "nbformat": 4,
    "nbformat_minor": 1
}