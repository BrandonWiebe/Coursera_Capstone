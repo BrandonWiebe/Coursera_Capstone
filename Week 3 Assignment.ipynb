{
    "cells": [
        {
            "metadata": {},
            "cell_type": "markdown",
            "source": "# Week 3 Assignment\n\n\n***\n\n## Section 1: Scraping and cleaning the data.\n\nIn the first section, we will use the requests and BeautifulSoup libraries to scrape the content from the Wikipedia article.\n\nFirst, the standard imports:"
        },
        {
            "metadata": {},
            "cell_type": "code",
            "source": "import requests\nimport pandas as pd\nfrom bs4 import BeautifulSoup",
            "execution_count": 2,
            "outputs": []
        },
        {
            "metadata": {},
            "cell_type": "markdown",
            "source": "Next, the requests library is used to download the Wikipedia article, and the article is then parsed with the BeautifulSoup library."
        },
        {
            "metadata": {},
            "cell_type": "code",
            "source": "r = requests.get(\"https://en.wikipedia.org/wiki/List_of_postal_codes_of_Canada:_M\")\nr.raise_for_status()\n\nwiki_soup = BeautifulSoup(r.content)",
            "execution_count": 13,
            "outputs": []
        },
        {
            "metadata": {},
            "cell_type": "markdown",
            "source": "Now, using the BeautifulSoup library, we search through the contents of the Wikipedia article for the contents of the table containing the list of postal codes and which boroughs/neighborhoods they correspond to.\nNote that we are assuming that the aforementioned table is the first table present in the html document."
        },
        {
            "metadata": {
                "scrolled": true
            },
            "cell_type": "code",
            "source": "table = wiki_soup.find(\"tbody\")\nrowList = []\ncolumns = [\"Postal Code\", \"Borough\", \"Neighborhood\"]\n\n# We want to skip the first row of the table, as it only contains the column headers.\nfor row in table.find_all(\"tr\")[1:]:\n    rowList.append(dict(zip(columns, row.stripped_strings)))",
            "execution_count": 9,
            "outputs": []
        },
        {
            "metadata": {},
            "cell_type": "markdown",
            "source": "The table is then converted to a pandas dataframe."
        },
        {
            "metadata": {},
            "cell_type": "code",
            "source": "df = pd.DataFrame(rowList, columns=columns)\ndf.head()",
            "execution_count": 29,
            "outputs": [
                {
                    "output_type": "execute_result",
                    "execution_count": 29,
                    "data": {
                        "text/plain": "  Postal Code           Borough               Neighborhood\n0         M1A      Not assigned               Not assigned\n1         M2A      Not assigned               Not assigned\n2         M3A        North York                  Parkwoods\n3         M4A        North York           Victoria Village\n4         M5A  Downtown Toronto  Regent Park, Harbourfront",
                        "text/html": "<div>\n<style scoped>\n    .dataframe tbody tr th:only-of-type {\n        vertical-align: middle;\n    }\n\n    .dataframe tbody tr th {\n        vertical-align: top;\n    }\n\n    .dataframe thead th {\n        text-align: right;\n    }\n</style>\n<table border=\"1\" class=\"dataframe\">\n  <thead>\n    <tr style=\"text-align: right;\">\n      <th></th>\n      <th>Postal Code</th>\n      <th>Borough</th>\n      <th>Neighborhood</th>\n    </tr>\n  </thead>\n  <tbody>\n    <tr>\n      <th>0</th>\n      <td>M1A</td>\n      <td>Not assigned</td>\n      <td>Not assigned</td>\n    </tr>\n    <tr>\n      <th>1</th>\n      <td>M2A</td>\n      <td>Not assigned</td>\n      <td>Not assigned</td>\n    </tr>\n    <tr>\n      <th>2</th>\n      <td>M3A</td>\n      <td>North York</td>\n      <td>Parkwoods</td>\n    </tr>\n    <tr>\n      <th>3</th>\n      <td>M4A</td>\n      <td>North York</td>\n      <td>Victoria Village</td>\n    </tr>\n    <tr>\n      <th>4</th>\n      <td>M5A</td>\n      <td>Downtown Toronto</td>\n      <td>Regent Park, Harbourfront</td>\n    </tr>\n  </tbody>\n</table>\n</div>"
                    },
                    "metadata": {}
                }
            ]
        },
        {
            "metadata": {},
            "cell_type": "markdown",
            "source": "Now, we need to filter out the rows of the table in which the Borough value is \"Not assigned\"."
        },
        {
            "metadata": {},
            "cell_type": "code",
            "source": "boroughFilter = df['Borough'] != \"Not assigned\"\ndf = df[boroughFilter]\ndf.reset_index(drop=True, inplace=True)\ndf.head()",
            "execution_count": 30,
            "outputs": [
                {
                    "output_type": "execute_result",
                    "execution_count": 30,
                    "data": {
                        "text/plain": "  Postal Code           Borough                                 Neighborhood\n0         M3A        North York                                    Parkwoods\n1         M4A        North York                             Victoria Village\n2         M5A  Downtown Toronto                    Regent Park, Harbourfront\n3         M6A        North York             Lawrence Manor, Lawrence Heights\n4         M7A  Downtown Toronto  Queen's Park, Ontario Provincial Government",
                        "text/html": "<div>\n<style scoped>\n    .dataframe tbody tr th:only-of-type {\n        vertical-align: middle;\n    }\n\n    .dataframe tbody tr th {\n        vertical-align: top;\n    }\n\n    .dataframe thead th {\n        text-align: right;\n    }\n</style>\n<table border=\"1\" class=\"dataframe\">\n  <thead>\n    <tr style=\"text-align: right;\">\n      <th></th>\n      <th>Postal Code</th>\n      <th>Borough</th>\n      <th>Neighborhood</th>\n    </tr>\n  </thead>\n  <tbody>\n    <tr>\n      <th>0</th>\n      <td>M3A</td>\n      <td>North York</td>\n      <td>Parkwoods</td>\n    </tr>\n    <tr>\n      <th>1</th>\n      <td>M4A</td>\n      <td>North York</td>\n      <td>Victoria Village</td>\n    </tr>\n    <tr>\n      <th>2</th>\n      <td>M5A</td>\n      <td>Downtown Toronto</td>\n      <td>Regent Park, Harbourfront</td>\n    </tr>\n    <tr>\n      <th>3</th>\n      <td>M6A</td>\n      <td>North York</td>\n      <td>Lawrence Manor, Lawrence Heights</td>\n    </tr>\n    <tr>\n      <th>4</th>\n      <td>M7A</td>\n      <td>Downtown Toronto</td>\n      <td>Queen's Park, Ontario Provincial Government</td>\n    </tr>\n  </tbody>\n</table>\n</div>"
                    },
                    "metadata": {}
                }
            ]
        },
        {
            "metadata": {},
            "cell_type": "markdown",
            "source": "We also need to check if there are any rows of the dataframe in which there is an assigned Borough, but no assigned Neighborhoods. If there are any rows with a Not assigned neighborhood, we will change the neighborhood to be the same as the borough."
        },
        {
            "metadata": {},
            "cell_type": "code",
            "source": "neighborhoodFilter = df['Neighborhood'] != \"Not assigned\"\nif neighborhoodFilter.sum() == df.shape[0]:\n    print(\"There are NO \\\"Not assigned\\\" neighborhoods in the data!\")\nelse:\n    print(\"There are {} \\\"Not assigned\\\" neighborhoods in the data\".format(neighborhoodFilter.sum()))\n",
            "execution_count": 23,
            "outputs": [
                {
                    "output_type": "stream",
                    "text": "There are NO \"Not assigned\" neighborhoods in the data!\n",
                    "name": "stdout"
                }
            ]
        },
        {
            "metadata": {},
            "cell_type": "markdown",
            "source": "Finally, let's check the shape of our resulting data set:"
        },
        {
            "metadata": {},
            "cell_type": "code",
            "source": "print(\"The data set has\", df.shape[0], \"rows and\", df.shape[1], \"columns.\")",
            "execution_count": 28,
            "outputs": [
                {
                    "output_type": "stream",
                    "text": "The data set has 103 rows and 3 columns.\n",
                    "name": "stdout"
                }
            ]
        },
        {
            "metadata": {},
            "cell_type": "markdown",
            "source": "## Section 2\n\nNow, we need to attach the latitude and longitude of each postal code to the dataframe containing the borough and neighborhood names.  \nFor this, we will use the geocoder python library."
        },
        {
            "metadata": {},
            "cell_type": "code",
            "source": "!pip install geocoder",
            "execution_count": 33,
            "outputs": [
                {
                    "output_type": "stream",
                    "text": "Requirement already satisfied: geocoder in /opt/conda/envs/Python-3.7-main/lib/python3.7/site-packages (1.38.1)\nRequirement already satisfied: click in /opt/conda/envs/Python-3.7-main/lib/python3.7/site-packages (from geocoder) (7.1.2)\nRequirement already satisfied: requests in /opt/conda/envs/Python-3.7-main/lib/python3.7/site-packages (from geocoder) (2.24.0)\nRequirement already satisfied: future in /opt/conda/envs/Python-3.7-main/lib/python3.7/site-packages (from geocoder) (0.18.2)\nRequirement already satisfied: ratelim in /opt/conda/envs/Python-3.7-main/lib/python3.7/site-packages (from geocoder) (0.1.6)\nRequirement already satisfied: six in /opt/conda/envs/Python-3.7-main/lib/python3.7/site-packages (from geocoder) (1.15.0)\nRequirement already satisfied: urllib3!=1.25.0,!=1.25.1,<1.26,>=1.21.1 in /opt/conda/envs/Python-3.7-main/lib/python3.7/site-packages (from requests->geocoder) (1.25.9)\nRequirement already satisfied: certifi>=2017.4.17 in /opt/conda/envs/Python-3.7-main/lib/python3.7/site-packages (from requests->geocoder) (2020.12.5)\nRequirement already satisfied: idna<3,>=2.5 in /opt/conda/envs/Python-3.7-main/lib/python3.7/site-packages (from requests->geocoder) (2.9)\nRequirement already satisfied: chardet<4,>=3.0.2 in /opt/conda/envs/Python-3.7-main/lib/python3.7/site-packages (from requests->geocoder) (3.0.4)\nRequirement already satisfied: decorator in /opt/conda/envs/Python-3.7-main/lib/python3.7/site-packages (from ratelim->geocoder) (4.4.2)\n",
                    "name": "stdout"
                }
            ]
        },
        {
            "metadata": {},
            "cell_type": "code",
            "source": "import geocoder",
            "execution_count": 34,
            "outputs": []
        },
        {
            "metadata": {},
            "cell_type": "markdown",
            "source": "I tried to use the geocoder package to get the latitude and longitude of each postal code, however the code just hangs and does not return any data."
        },
        {
            "metadata": {},
            "cell_type": "code",
            "source": "#coords = {\"Latitude\":[], \"Longitude\":[]}\n#for postalCode in df['Postal Code']:\n#    lat_lng = None\n#    #print(\"Postal code:\", postalCode)\n#    while(lat_lng is None):\n#        geo = geocoder.google('{}, Toronto, Ontario'.format(postalCode))\n#        lat_lng = geo.latlng\n#    coords[\"Latitude\"].append(lat_lng[0])\n#    coords[\"Longitude\"].append(lat_lng[1])",
            "execution_count": 72,
            "outputs": []
        },
        {
            "metadata": {},
            "cell_type": "markdown",
            "source": "Instead, I used the provided CSV file containing a list of each postal code and its geospacial coordinates."
        },
        {
            "metadata": {
                "scrolled": true
            },
            "cell_type": "code",
            "source": "lat_long = pd.read_csv(\"https://cocl.us/Geospatial_data\")\nlat_long.head()",
            "execution_count": 70,
            "outputs": [
                {
                    "output_type": "execute_result",
                    "execution_count": 70,
                    "data": {
                        "text/plain": "  Postal Code   Latitude  Longitude\n0         M1B  43.806686 -79.194353\n1         M1C  43.784535 -79.160497\n2         M1E  43.763573 -79.188711\n3         M1G  43.770992 -79.216917\n4         M1H  43.773136 -79.239476",
                        "text/html": "<div>\n<style scoped>\n    .dataframe tbody tr th:only-of-type {\n        vertical-align: middle;\n    }\n\n    .dataframe tbody tr th {\n        vertical-align: top;\n    }\n\n    .dataframe thead th {\n        text-align: right;\n    }\n</style>\n<table border=\"1\" class=\"dataframe\">\n  <thead>\n    <tr style=\"text-align: right;\">\n      <th></th>\n      <th>Postal Code</th>\n      <th>Latitude</th>\n      <th>Longitude</th>\n    </tr>\n  </thead>\n  <tbody>\n    <tr>\n      <th>0</th>\n      <td>M1B</td>\n      <td>43.806686</td>\n      <td>-79.194353</td>\n    </tr>\n    <tr>\n      <th>1</th>\n      <td>M1C</td>\n      <td>43.784535</td>\n      <td>-79.160497</td>\n    </tr>\n    <tr>\n      <th>2</th>\n      <td>M1E</td>\n      <td>43.763573</td>\n      <td>-79.188711</td>\n    </tr>\n    <tr>\n      <th>3</th>\n      <td>M1G</td>\n      <td>43.770992</td>\n      <td>-79.216917</td>\n    </tr>\n    <tr>\n      <th>4</th>\n      <td>M1H</td>\n      <td>43.773136</td>\n      <td>-79.239476</td>\n    </tr>\n  </tbody>\n</table>\n</div>"
                    },
                    "metadata": {}
                }
            ]
        },
        {
            "metadata": {},
            "cell_type": "markdown",
            "source": "Then, we can merge the dataframe containing the borough and neighborhood names with the one containing the latitude and longitude.  \nWe need to make sure that we are matching up the postal codes between the two different dataframes, so we join the two dataframes on the Postal Code column."
        },
        {
            "metadata": {},
            "cell_type": "code",
            "source": "df = df.join(lat_long.set_index(\"Postal Code\"), on=\"Postal Code\")\ndf.head()",
            "execution_count": 71,
            "outputs": [
                {
                    "output_type": "execute_result",
                    "execution_count": 71,
                    "data": {
                        "text/plain": "  Postal Code           Borough                                 Neighborhood  \\\n0         M3A        North York                                    Parkwoods   \n1         M4A        North York                             Victoria Village   \n2         M5A  Downtown Toronto                    Regent Park, Harbourfront   \n3         M6A        North York             Lawrence Manor, Lawrence Heights   \n4         M7A  Downtown Toronto  Queen's Park, Ontario Provincial Government   \n\n    Latitude  Longitude  \n0  43.753259 -79.329656  \n1  43.725882 -79.315572  \n2  43.654260 -79.360636  \n3  43.718518 -79.464763  \n4  43.662301 -79.389494  ",
                        "text/html": "<div>\n<style scoped>\n    .dataframe tbody tr th:only-of-type {\n        vertical-align: middle;\n    }\n\n    .dataframe tbody tr th {\n        vertical-align: top;\n    }\n\n    .dataframe thead th {\n        text-align: right;\n    }\n</style>\n<table border=\"1\" class=\"dataframe\">\n  <thead>\n    <tr style=\"text-align: right;\">\n      <th></th>\n      <th>Postal Code</th>\n      <th>Borough</th>\n      <th>Neighborhood</th>\n      <th>Latitude</th>\n      <th>Longitude</th>\n    </tr>\n  </thead>\n  <tbody>\n    <tr>\n      <th>0</th>\n      <td>M3A</td>\n      <td>North York</td>\n      <td>Parkwoods</td>\n      <td>43.753259</td>\n      <td>-79.329656</td>\n    </tr>\n    <tr>\n      <th>1</th>\n      <td>M4A</td>\n      <td>North York</td>\n      <td>Victoria Village</td>\n      <td>43.725882</td>\n      <td>-79.315572</td>\n    </tr>\n    <tr>\n      <th>2</th>\n      <td>M5A</td>\n      <td>Downtown Toronto</td>\n      <td>Regent Park, Harbourfront</td>\n      <td>43.654260</td>\n      <td>-79.360636</td>\n    </tr>\n    <tr>\n      <th>3</th>\n      <td>M6A</td>\n      <td>North York</td>\n      <td>Lawrence Manor, Lawrence Heights</td>\n      <td>43.718518</td>\n      <td>-79.464763</td>\n    </tr>\n    <tr>\n      <th>4</th>\n      <td>M7A</td>\n      <td>Downtown Toronto</td>\n      <td>Queen's Park, Ontario Provincial Government</td>\n      <td>43.662301</td>\n      <td>-79.389494</td>\n    </tr>\n  </tbody>\n</table>\n</div>"
                    },
                    "metadata": {}
                }
            ]
        }
    ],
    "metadata": {
        "kernelspec": {
            "name": "python3",
            "display_name": "Python 3.7",
            "language": "python"
        }
    },
    "nbformat": 4,
    "nbformat_minor": 1
}